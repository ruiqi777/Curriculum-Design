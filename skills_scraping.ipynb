{
  "nbformat": 4,
  "nbformat_minor": 0,
  "metadata": {
    "colab": {
      "name": "skills_scraping.ipynb",
      "provenance": [],
      "authorship_tag": "ABX9TyM1+LEcRr1NlYRtx0CjwwzN",
      "include_colab_link": true
    },
    "kernelspec": {
      "name": "python3",
      "display_name": "Python 3"
    }
  },
  "cells": [
    {
      "cell_type": "markdown",
      "metadata": {
        "id": "view-in-github",
        "colab_type": "text"
      },
      "source": [
        "<a href=\"https://colab.research.google.com/github/angrycircuit/mie1624-group1-project/blob/main/skills_scraping.ipynb\" target=\"_parent\"><img src=\"https://colab.research.google.com/assets/colab-badge.svg\" alt=\"Open In Colab\"/></a>"
      ]
    },
    {
      "cell_type": "code",
      "metadata": {
        "id": "Go0TaRj5dLrU"
      },
      "source": [
        "import numpy as np\n",
        "import pandas as pd\n",
        "import urllib\n",
        "from bs4 import BeautifulSoup"
      ],
      "execution_count": null,
      "outputs": []
    },
    {
      "cell_type": "code",
      "metadata": {
        "id": "WKPR2_1k0Bg9"
      },
      "source": [
        "language = []"
      ],
      "execution_count": null,
      "outputs": []
    },
    {
      "cell_type": "markdown",
      "metadata": {
        "id": "ub8R89Qwz8j9"
      },
      "source": [
        "## Wikipedia\n",
        "https://en.wikipedia.org/wiki/List_of_programming_languages"
      ]
    },
    {
      "cell_type": "code",
      "metadata": {
        "id": "0sgGuu-Rv0xA"
      },
      "source": [
        "url = \"https://en.wikipedia.org/wiki/List_of_programming_languages\"\n",
        "\n",
        "html = urllib.request.urlopen(url).read()\n",
        "soup = BeautifulSoup(html, \"html.parser\")\n",
        "\n",
        "for divTag in soup.find_all('div', attrs = {'class': 'div-col'}):\n",
        "    for liTag in divTag.find_all('li'):\n",
        "        a = liTag.find('a').text\n",
        "        language.append(a)\n",
        "\n",
        "language = list(dict.fromkeys(language))"
      ],
      "execution_count": null,
      "outputs": []
    },
    {
      "cell_type": "markdown",
      "metadata": {
        "id": "R876qAVY0t71"
      },
      "source": [
        "## Who Is Hosting This\n",
        "https://www.whoishostingthis.com/resources/programming/"
      ]
    },
    {
      "cell_type": "code",
      "metadata": {
        "id": "WIaoNNuc0tXN"
      },
      "source": [
        "url = \"https://www.whoishostingthis.com/resources/programming/\"\n",
        "url = urllib.request.Request(url, headers={'User-Agent': 'Mozilla/5.0'})\n",
        "\n",
        "html = urllib.request.urlopen(url).read()\n",
        "soup = BeautifulSoup(html, \"html.parser\")\n",
        "\n",
        "for liTag in soup.find_all('li', attrs = {'data-tag': '3'}):\n",
        "    a = liTag.find('a').text\n",
        "    language.append(a)\n",
        "\n",
        "language = list(dict.fromkeys(language))"
      ],
      "execution_count": null,
      "outputs": []
    },
    {
      "cell_type": "markdown",
      "metadata": {
        "id": "QaUdaQ_T4CkM"
      },
      "source": [
        "## DZone\n",
        "https://dzone.com/articles/big-list-256-programming"
      ]
    },
    {
      "cell_type": "code",
      "metadata": {
        "id": "YC_y3yBj4KM7"
      },
      "source": [
        "url = \"https://dzone.com/articles/big-list-256-programming\"\n",
        "url = urllib.request.Request(url, headers={'User-Agent': 'Mozilla/5.0'})\n",
        "\n",
        "html = urllib.request.urlopen(url).read()\n",
        "soup = BeautifulSoup(html, \"html.parser\")\n",
        "\n",
        "for divTag in soup.find_all('div', attrs = {'class': 'content-html'}):\n",
        "    for liTag in divTag.find_all('li'):\n",
        "        a = liTag.find('a').text\n",
        "        language.append(a)\n",
        "\n",
        "language = list(dict.fromkeys(language))"
      ],
      "execution_count": null,
      "outputs": []
    },
    {
      "cell_type": "markdown",
      "metadata": {
        "id": "rTBbcpQf4g7t"
      },
      "source": [
        "## Export List\n",
        "Convert to a data frame then export"
      ]
    },
    {
      "cell_type": "code",
      "metadata": {
        "colab": {
          "base_uri": "https://localhost:8080/"
        },
        "id": "WM5EYvS9yuJ-",
        "outputId": "a2de1b6e-fa85-4eb9-fca5-37eb92008bc7"
      },
      "source": [
        "language_df = pd.DataFrame(language)\n",
        "language_df.to_csv(\"programming_language.csv\")\n",
        "language_df.shape"
      ],
      "execution_count": null,
      "outputs": [
        {
          "output_type": "execute_result",
          "data": {
            "text/plain": [
              "(886, 1)"
            ]
          },
          "metadata": {
            "tags": []
          },
          "execution_count": 43
        }
      ]
    },
    {
      "cell_type": "code",
      "metadata": {
        "id": "UTWv46C44Dwr"
      },
      "source": [
        ""
      ],
      "execution_count": null,
      "outputs": []
    }
  ]
}
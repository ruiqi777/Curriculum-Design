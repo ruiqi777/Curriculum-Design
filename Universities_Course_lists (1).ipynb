{
  "nbformat": 4,
  "nbformat_minor": 0,
  "metadata": {
    "colab": {
      "name": "Universities Course lists.ipynb",
      "provenance": [],
      "collapsed_sections": [],
      "toc_visible": true
    },
    "kernelspec": {
      "name": "python3",
      "display_name": "Python 3"
    }
  },
  "cells": [
    {
      "cell_type": "markdown",
      "metadata": {
        "id": "PM-_Z_BYuGim"
      },
      "source": [
        "# Waterloo University Course Lists"
      ]
    },
    {
      "cell_type": "code",
      "metadata": {
        "id": "MbAsOW0VwnCM"
      },
      "source": [
        "import numpy as np\n",
        "import pandas as pd\n",
        "from bs4 import BeautifulSoup\n",
        "import requests"
      ],
      "execution_count": 64,
      "outputs": []
    },
    {
      "cell_type": "code",
      "metadata": {
        "id": "7OGKLqalwK87"
      },
      "source": [
        "url=\"https://uwaterloo.ca/graduate-studies-academic-calendar/mathematics/data-science-and-artificial-intelligence/master-data-science-and-artificial-intelligence-mdsai-co-operative-program-direct-entry#coursework\"\n",
        "resp = requests.get(url)\n",
        "soup = BeautifulSoup(resp.content)"
      ],
      "execution_count": 65,
      "outputs": []
    },
    {
      "cell_type": "code",
      "metadata": {
        "id": "Ng8VPLQgx8U3"
      },
      "source": [
        "t=[]\n",
        "\n",
        "for text in soup.find_all(name=\"div\", attrs={\"class\":\"field-content field-item\"}):\n",
        "  for li in text.find_all(name=\"li\"):  \n",
        "    t.append(li.text)\n",
        "  "
      ],
      "execution_count": 66,
      "outputs": []
    },
    {
      "cell_type": "code",
      "metadata": {
        "id": "5mSJj1qVyFGL",
        "outputId": "7a897a9f-16b1-45e2-d40f-9a6cb87f569d",
        "colab": {
          "base_uri": "https://localhost:8080/"
        }
      },
      "source": [
        "t"
      ],
      "execution_count": 67,
      "outputs": [
        {
          "output_type": "execute_result",
          "data": {
            "text/plain": [
              "['\\nStudents must complete at least 9 courses: normally 1 foundation course, 5 core courses, and 3 elective courses.\\n',\n",
              " '\\nFoundation courses\\n\\nStudents are expected to take at most 1 of the following 2 foundational courses depending on their undergraduate major:\\n\\nCS 600 Fundamentals of Computer Science for Data Science (designed for non-CS major background students)\\n\\n\\nSTAT 845 Statistical Concepts for Data Science (designed for non-STAT major background students)\\n\\n\\n',\n",
              " '\\nStudents are expected to take at most 1 of the following 2 foundational courses depending on their undergraduate major:\\n\\nCS 600 Fundamentals of Computer Science for Data Science (designed for non-CS major background students)\\n\\n\\nSTAT 845 Statistical Concepts for Data Science (designed for non-STAT major background students)\\n\\n',\n",
              " '\\nCS 600 Fundamentals of Computer Science for Data Science (designed for non-CS major background students)\\n',\n",
              " '\\nSTAT 845 Statistical Concepts for Data Science (designed for non-STAT major background students)\\n',\n",
              " '\\nCore courses\\n\\nStudents are required to take the following core courses:\\n\\n\\nSTAT 847 Exploratory Data Analysis\\n\\n\\n1 of:\\n\\nCS 651 Data-Intensive Distributed Computing (designed for CS major background students), or\\n\\n\\nCS 631 Data-Intensive Distributed Analytics (designed for non-CS major background students)\\n\\n\\n\\n1 of:\\n\\nSTAT 841 Statistical Learning - Classification\\n\\n\\nSTAT 842 Data Visualization\\n\\n\\nSTAT 844 Statistical Learning - Function Estimation\\n\\n\\n\\n1 of:\\n\\nCS 638 Principles of Data Management and Use\\n\\n\\nCS 648 Database Systems Implementation\\n\\n\\nCS 680 Introduction to Machine Learning\\n\\n\\nCS 685 Machine Learning: Statistical and Computational Foundations\\n\\n\\n\\n1 of:\\n\\nCO 602 / CS 795 Fundamentals of Optimization\\n\\n\\nCO 673 / CS 794 Optimization for Data Science\\n\\n\\nCO 663 Convex Optimization and Analysis\\n\\n\\n',\n",
              " '\\nStudents are required to take the following core courses:\\n',\n",
              " '\\nSTAT 847 Exploratory Data Analysis\\n',\n",
              " '\\n1 of:\\n\\nCS 651 Data-Intensive Distributed Computing (designed for CS major background students), or\\n\\n\\nCS 631 Data-Intensive Distributed Analytics (designed for non-CS major background students)\\n\\n',\n",
              " '\\nCS 651 Data-Intensive Distributed Computing (designed for CS major background students), or\\n',\n",
              " '\\nCS 631 Data-Intensive Distributed Analytics (designed for non-CS major background students)\\n',\n",
              " '\\n1 of:\\n\\nSTAT 841 Statistical Learning - Classification\\n\\n\\nSTAT 842 Data Visualization\\n\\n\\nSTAT 844 Statistical Learning - Function Estimation\\n\\n',\n",
              " '\\nSTAT 841 Statistical Learning - Classification\\n',\n",
              " '\\nSTAT 842 Data Visualization\\n',\n",
              " '\\nSTAT 844 Statistical Learning - Function Estimation\\n',\n",
              " '\\n1 of:\\n\\nCS 638 Principles of Data Management and Use\\n\\n\\nCS 648 Database Systems Implementation\\n\\n\\nCS 680 Introduction to Machine Learning\\n\\n\\nCS 685 Machine Learning: Statistical and Computational Foundations\\n\\n',\n",
              " '\\nCS 638 Principles of Data Management and Use\\n',\n",
              " '\\nCS 648 Database Systems Implementation\\n',\n",
              " '\\nCS 680 Introduction to Machine Learning\\n',\n",
              " '\\nCS 685 Machine Learning: Statistical and Computational Foundations\\n',\n",
              " '\\n1 of:\\n\\nCO 602 / CS 795 Fundamentals of Optimization\\n\\n\\nCO 673 / CS 794 Optimization for Data Science\\n\\n\\nCO 663 Convex Optimization and Analysis\\n\\n',\n",
              " '\\nCO 602 / CS 795 Fundamentals of Optimization\\n',\n",
              " '\\nCO 673 / CS 794 Optimization for Data Science\\n',\n",
              " '\\nCO 663 Convex Optimization and Analysis\\n',\n",
              " '\\nElective Courses\\n\\nStudents must take enough additional elective courses to fulfill the 9-course requirement. These courses must normally be taken from the following list of selected graduate courses. Courses not on this list are subject to the approval of the Graduate Director.\\n\\nCO 602 / CS 795 Fundamentals of Optimization\\n\\n\\nCO 673 / CS 794 Optimization for Data Science\\n\\n\\nCO 650 Combinatorial Optimization\\n\\n\\nCO 663 Convex Optimization and Analysis\\n\\n\\nCO 769 Topics in Continuous Optimization(*)\\n\\n\\nCS 638 Principles of Data Management and Use\\n\\n\\nCS 648 Database Systems Implementation\\n\\n\\nCS 654 Distributed Systems\\n\\n\\nCS 680 Introduction to Machine Learning\\n\\n\\nCS 685 Machine Learning: Statistical and Computational Foundations\\n\\n\\nCS 686 Introduction to Artificial Intelligence\\n\\n\\nCS 740 Database Engineering\\n\\n\\nCS 742 Parallel and Distributed Database Systems\\n\\n\\nCS 743 Principles of Database Management and Use\\n\\n\\nCS 786 Probabilistic Inference and Machine Learning\\n\\n\\nCS 798 Advanced Research Topics(*)\\n\\n\\nCS 848 Advanced Topics in Databases(*)\\n\\n\\nCS 856 Advanced Topics in Distributed Computing(*)\\n\\n\\nCS 885 Advanced Topics in Computational Statistics(*)\\n\\n\\nCS 886 Advanced Topics in Artificial Intelligence\\n\\n\\nSTAT 840 Computational Inference\\n\\n\\nSTAT 841 Statistical Learning - Classification\\n\\n\\nSTAT 842 Data Visualization\\n\\n\\nSTAT 844 Statistical Learning - Function Estimation\\n\\n\\nSTAT 946 Topics in Probability and Statistics(*)\\n\\n\\nDS 701/702 Data Science Project 1 & 2\\n\\n\\n\\nNote (*): CO 769, CS 798, CS courses at the 800 level, and STAT courses at the 900 level should be on a topic in Data Science or Artificial Intelligence; they are subject to the approval of the Graduate Officer.\\n\\n',\n",
              " '\\nStudents must take enough additional elective courses to fulfill the 9-course requirement. These courses must normally be taken from the following list of selected graduate courses. Courses not on this list are subject to the approval of the Graduate Director.\\n\\nCO 602 / CS 795 Fundamentals of Optimization\\n\\n\\nCO 673 / CS 794 Optimization for Data Science\\n\\n\\nCO 650 Combinatorial Optimization\\n\\n\\nCO 663 Convex Optimization and Analysis\\n\\n\\nCO 769 Topics in Continuous Optimization(*)\\n\\n\\nCS 638 Principles of Data Management and Use\\n\\n\\nCS 648 Database Systems Implementation\\n\\n\\nCS 654 Distributed Systems\\n\\n\\nCS 680 Introduction to Machine Learning\\n\\n\\nCS 685 Machine Learning: Statistical and Computational Foundations\\n\\n\\nCS 686 Introduction to Artificial Intelligence\\n\\n\\nCS 740 Database Engineering\\n\\n\\nCS 742 Parallel and Distributed Database Systems\\n\\n\\nCS 743 Principles of Database Management and Use\\n\\n\\nCS 786 Probabilistic Inference and Machine Learning\\n\\n\\nCS 798 Advanced Research Topics(*)\\n\\n\\nCS 848 Advanced Topics in Databases(*)\\n\\n\\nCS 856 Advanced Topics in Distributed Computing(*)\\n\\n\\nCS 885 Advanced Topics in Computational Statistics(*)\\n\\n\\nCS 886 Advanced Topics in Artificial Intelligence\\n\\n\\nSTAT 840 Computational Inference\\n\\n\\nSTAT 841 Statistical Learning - Classification\\n\\n\\nSTAT 842 Data Visualization\\n\\n\\nSTAT 844 Statistical Learning - Function Estimation\\n\\n\\nSTAT 946 Topics in Probability and Statistics(*)\\n\\n\\nDS 701/702 Data Science Project 1 & 2\\n\\n',\n",
              " '\\nCO 602 / CS 795 Fundamentals of Optimization\\n',\n",
              " '\\nCO 673 / CS 794 Optimization for Data Science\\n',\n",
              " '\\nCO 650 Combinatorial Optimization\\n',\n",
              " '\\nCO 663 Convex Optimization and Analysis\\n',\n",
              " '\\nCO 769 Topics in Continuous Optimization(*)\\n',\n",
              " '\\nCS 638 Principles of Data Management and Use\\n',\n",
              " '\\nCS 648 Database Systems Implementation\\n',\n",
              " '\\nCS 654 Distributed Systems\\n',\n",
              " '\\nCS 680 Introduction to Machine Learning\\n',\n",
              " '\\nCS 685 Machine Learning: Statistical and Computational Foundations\\n',\n",
              " '\\nCS 686 Introduction to Artificial Intelligence\\n',\n",
              " '\\nCS 740 Database Engineering\\n',\n",
              " '\\nCS 742 Parallel and Distributed Database Systems\\n',\n",
              " '\\nCS 743 Principles of Database Management and Use\\n',\n",
              " '\\nCS 786 Probabilistic Inference and Machine Learning\\n',\n",
              " '\\nCS 798 Advanced Research Topics(*)\\n',\n",
              " '\\nCS 848 Advanced Topics in Databases(*)\\n',\n",
              " '\\nCS 856 Advanced Topics in Distributed Computing(*)\\n',\n",
              " '\\nCS 885 Advanced Topics in Computational Statistics(*)\\n',\n",
              " '\\nCS 886 Advanced Topics in Artificial Intelligence\\n',\n",
              " '\\nSTAT 840 Computational Inference\\n',\n",
              " '\\nSTAT 841 Statistical Learning - Classification\\n',\n",
              " '\\nSTAT 842 Data Visualization\\n',\n",
              " '\\nSTAT 844 Statistical Learning - Function Estimation\\n',\n",
              " '\\nSTAT 946 Topics in Probability and Statistics(*)\\n',\n",
              " '\\nDS 701/702 Data Science Project 1 & 2\\n',\n",
              " '\\nNote (*): CO 769, CS 798, CS courses at the 800 level, and STAT courses at the 900 level should be on a topic in Data Science or Artificial Intelligence; they are subject to the approval of the Graduate Officer.\\n',\n",
              " '\\nIn order to remain in good academic standing, students must maintain an average of 75% and a minimum grade of 70% in all their courses. Progress reports are not required; however, the Director will review students’ overall average every term. Students whose average falls below the program’s minimum requirements may be required to withdraw from the program. The minimum average required by the program is higher than the university’s minimum requirement (70%).\\n']"
            ]
          },
          "metadata": {
            "tags": []
          },
          "execution_count": 67
        }
      ]
    },
    {
      "cell_type": "markdown",
      "metadata": {
        "id": "7Wcsb1irt7P2"
      },
      "source": [
        "# Carnegie Mellon University Course Lists"
      ]
    },
    {
      "cell_type": "code",
      "metadata": {
        "id": "1RQevslPkM1Y",
        "outputId": "ce1444d6-37b0-478c-d9ee-4c7dd27de27f",
        "colab": {
          "base_uri": "https://localhost:8080/"
        }
      },
      "source": [
        "url = 'https://mcds.cs.cmu.edu/learn-us-curriculum'\n",
        "resp1 = requests.get(url)\n",
        "soup = BeautifulSoup(resp1.content)\n",
        "p=[]\n",
        "\n",
        "for text in soup.find_all(name=\"div\", attrs={\"class\":\"field field-name-body field-type-text-with-summary field-label-hidden\"}):\n",
        "  for li in text.find_all(name=\"li\"):  \n",
        "    p.append(li.text)\n",
        "  \n",
        "p"
      ],
      "execution_count": 68,
      "outputs": [
        {
          "output_type": "execute_result",
          "data": {
            "text/plain": [
              "['15-619 Cloud Computing',\n",
              " '10-601 Machine Learning',\n",
              " '05-839 Interactive Data Science',\n",
              " '11-631 Data Science Seminar',\n",
              " '15-605 Operating Systems Implementation',\n",
              " '15-618 Parallel Computer Architecture & Programming',\n",
              " '15-640 Distributed Systems',\n",
              " '15-641 Computer Networks',\n",
              " '15-645 Database Systems',\n",
              " '15-712 Advanced and Distributed Operating Systems',\n",
              " '15-719 Advanced Cloud Computing',\n",
              " '15-721 Advanced Databases',\n",
              " '15-746 Advanced Storage Systems',\n",
              " '15-821 Mobile and Pervasive Computing',\n",
              " '36-702 Statistical Machine Learning',\n",
              " '36-705 Intermediate Statistics',\n",
              " '36-725 Convex Optimization',\n",
              " '10-608 Conversational Machine Learning',\n",
              " '10-701 Introduction to Machine Learning (PhD)',\n",
              " '10-703 Deep Reinforcement Learning & Control',\n",
              " '10-708 Probabilistic Graphical Models',\n",
              " '10-715 Advanced Intro to Machine Learning',\n",
              " '10-725 Convex Optimization',\n",
              " '10-805 Machine Learning with Big Data Sets',\n",
              " '11-641 Machine Learning for Text Mining',\n",
              " '11-661 Language and Statistics',\n",
              " '11-727 Computational Semantics for NLP',\n",
              " '11-741 Machine Learning for Text Mining',\n",
              " '11-747 Neural Networks for NLP',\n",
              " '11-755 Machine Learning for Signal Processing',\n",
              " '11-761 Language and Statistics',\n",
              " '11-763 Structured Prediction',\n",
              " '11-777 Advanced Multimedia Machine Learning',\n",
              " '11-785 Intro to Deep Learning',\n",
              " '11-642 Search Engines',\n",
              " '11-747 Neural Networks for NLP',\n",
              " '11-775 Large-Scale Multimedia Analysis',\n",
              " '11-777 Advanced Multimedia Machine Learning',\n",
              " '11-791 Design & Engineering of Intelligent Information Systems',\n",
              " '11-792 Intelligent Systems Project',\n",
              " '11-797 Question Answering',\n",
              " '10-605 Machine Learning with Big Data Sets',\n",
              " '10-805 Machine Learning with Big Data Sets',\n",
              " '11-775 Large-Scale Multimedia Analysis',\n",
              " '05-816 Applied Research Methods',\n",
              " '94-834 Applied Econometrics I & II',\n",
              " '05-821 Social Web',\n",
              " '05-823 E-Learning Design Principles and Methods',\n",
              " '05-833 Applied Gadgets, Sensors & Activity Recognition',\n",
              " '05-836 Usable Privacy and Security',\n",
              " '05-840 Tools for On-Line Learning',\n",
              " '05-872 Rapid Prototyping of Computer Systems',\n",
              " '05-891 Designing Human Centered Systems',\n",
              " '05-899 Crowd Programming',\n",
              " '05-899 Learning Analytics & Educational Data Science',\n",
              " '05-899 Special Topics in HCI: Sensemaking',\n",
              " '05-899 Design of Large-Scale Peer Learning Systems',\n",
              " '05-899 Learning With Peers at Massive Scale',\n",
              " '05-899 Mobile Health']"
            ]
          },
          "metadata": {
            "tags": []
          },
          "execution_count": 68
        }
      ]
    },
    {
      "cell_type": "markdown",
      "metadata": {
        "id": "aAPjEicNuOw-"
      },
      "source": [
        "# University Of Pennsylvania Course Lists\n"
      ]
    },
    {
      "cell_type": "code",
      "metadata": {
        "id": "anUlpZOeuTJs",
        "outputId": "f1dd2f64-c33d-4567-dce6-de40da67e3a5",
        "colab": {
          "base_uri": "https://localhost:8080/"
        }
      },
      "source": [
        "url = 'https://catalog.upenn.edu/graduate/programs/data-science-mse/'\n",
        "resp2 = requests.get(url)\n",
        "soup = BeautifulSoup(resp2.content)\n",
        "program=[]\n",
        "\n",
        "\n",
        "#couln't find the appropriate attribute to extract the course list. please trying inspecting the above list.\n",
        "\n",
        "  \n",
        "program"
      ],
      "execution_count": 69,
      "outputs": [
        {
          "output_type": "execute_result",
          "data": {
            "text/plain": [
              "[]"
            ]
          },
          "metadata": {
            "tags": []
          },
          "execution_count": 69
        }
      ]
    },
    {
      "cell_type": "markdown",
      "metadata": {
        "id": "Bka_R8DI1Nr4"
      },
      "source": [
        "# University Of Melbourne Course Lists"
      ]
    },
    {
      "cell_type": "code",
      "metadata": {
        "id": "IbX7F8GuzhVf"
      },
      "source": [
        "url = 'https://study.unimelb.edu.au/find/courses/graduate/master-of-data-science/what-will-i-study/'\n",
        "resp3 = requests.get(url)\n",
        "soup = BeautifulSoup(resp3.content)"
      ],
      "execution_count": 70,
      "outputs": []
    },
    {
      "cell_type": "code",
      "metadata": {
        "id": "boP-wkxMzb8A",
        "outputId": "f37c51a6-618d-4241-ad4b-85ca971b58b8",
        "colab": {
          "base_uri": "https://localhost:8080/"
        }
      },
      "source": [
        "program_title=[] \n",
        "\n",
        "\n",
        "for div in soup.find_all(name=\"div\", attrs={\"class\":\"subject-programs__group-panel\"}):\n",
        "    for span in div.find_all(name=\"span\", attrs={\"class\":\"subject-programs__title\"}):\n",
        "        program_title.append(span.text)\n",
        "program_title"
      ],
      "execution_count": 72,
      "outputs": [
        {
          "output_type": "execute_result",
          "data": {
            "text/plain": [
              "['Methods of Mathematical Statistics',\n",
              " 'A First Course In Statistical Learning',\n",
              " 'Programming and Software Development',\n",
              " 'Algorithms and Complexity',\n",
              " 'Elements of Data Processing',\n",
              " 'Database Systems & Information Modelling',\n",
              " 'Statistical Modelling for Data Science',\n",
              " 'Multivariate Statistics for Data Science',\n",
              " 'Computational Statistics & Data Science',\n",
              " 'Cluster and Cloud Computing',\n",
              " 'Statistical Machine Learning',\n",
              " 'Advanced Database Systems',\n",
              " 'Data Science Project Pt1',\n",
              " 'Data Science Project Pt2',\n",
              " 'Foundations of Spatial Information',\n",
              " 'Spatial Databases',\n",
              " 'Spatial Analysis',\n",
              " 'Information Visualisation',\n",
              " 'Analysis of High-Dimensional Data',\n",
              " 'Advanced Statistical Modelling',\n",
              " 'Mathematics of Risk',\n",
              " 'Optimisation for Industry',\n",
              " 'Practice of Statistics & Data Science',\n",
              " 'Stochastic Calculus with Applications',\n",
              " 'Advanced Probability',\n",
              " 'Random Processes',\n",
              " 'AI Planning for Autonomy',\n",
              " 'Advanced Theoretical Computer Science',\n",
              " 'Algorithms for Bioinformatics',\n",
              " 'Computational Genomics',\n",
              " 'Constraint Programming',\n",
              " 'Cryptography and Security',\n",
              " 'Declarative Programming',\n",
              " 'Distributed Algorithms',\n",
              " 'Distributed Systems',\n",
              " 'Internet Technologies',\n",
              " 'Mobile Computing Systems Programming',\n",
              " 'Parallel and Multicore Computing',\n",
              " 'Programming Language Implementation',\n",
              " 'Natural Language Processing',\n",
              " 'Stream Computing and Applications',\n",
              " 'Knowledge Management Systems',\n",
              " 'Data Warehousing',\n",
              " 'Science Communication',\n",
              " 'Communication for Research Scientists',\n",
              " 'Science in Schools',\n",
              " 'Science and Technology Internship',\n",
              " 'Data Science Research Project Pt1',\n",
              " 'Data Science Research Project Pt2']"
            ]
          },
          "metadata": {
            "tags": []
          },
          "execution_count": 72
        }
      ]
    },
    {
      "cell_type": "code",
      "metadata": {
        "id": "u2_R6PEL7eq8"
      },
      "source": [
        ""
      ],
      "execution_count": 102,
      "outputs": []
    }
  ]
}
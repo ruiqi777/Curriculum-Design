{
  "nbformat": 4,
  "nbformat_minor": 0,
  "metadata": {
    "colab": {
      "name": "Hang-Coursera-Scraping.ipynb",
      "provenance": [],
      "collapsed_sections": [],
      "toc_visible": true
    },
    "kernelspec": {
      "display_name": "Python 3",
      "name": "python3"
    }
  },
  "cells": [
    {
      "cell_type": "code",
      "metadata": {
        "colab": {
          "base_uri": "https://localhost:8080/"
        },
        "id": "7WhDdQplJgFy",
        "outputId": "75f6b898-967f-42ef-bc14-80888cf8a5d5"
      },
      "source": [
        "!pip install beautifulsoup4\n",
        "!pip install lxml\n",
        "!pip install html5lib\n",
        "!pip install wordcloud\n",
        "\n",
        "import numpy as np\n",
        "import pandas as pd\n",
        "import matplotlib.pyplot as plt\n",
        "import urllib\n",
        "from bs4 import BeautifulSoup\n",
        "import datetime\n",
        "import ast\n",
        "import csv\n",
        "from IPython.display import HTML\n",
        "\n",
        "from urllib.error import HTTPError\n",
        "\n",
        "from wordcloud import WordCloud\n",
        "import bs4\n",
        "from bs4 import BeautifulSoup\n",
        "import json"
      ],
      "execution_count": 111,
      "outputs": [
        {
          "output_type": "stream",
          "text": [
            "Requirement already satisfied: beautifulsoup4 in /usr/local/lib/python3.6/dist-packages (4.6.3)\n",
            "Requirement already satisfied: lxml in /usr/local/lib/python3.6/dist-packages (4.2.6)\n",
            "Requirement already satisfied: html5lib in /usr/local/lib/python3.6/dist-packages (1.0.1)\n",
            "Requirement already satisfied: six>=1.9 in /usr/local/lib/python3.6/dist-packages (from html5lib) (1.15.0)\n",
            "Requirement already satisfied: webencodings in /usr/local/lib/python3.6/dist-packages (from html5lib) (0.5.1)\n",
            "Requirement already satisfied: wordcloud in /usr/local/lib/python3.6/dist-packages (1.5.0)\n",
            "Requirement already satisfied: numpy>=1.6.1 in /usr/local/lib/python3.6/dist-packages (from wordcloud) (1.18.5)\n",
            "Requirement already satisfied: pillow in /usr/local/lib/python3.6/dist-packages (from wordcloud) (7.0.0)\n"
          ],
          "name": "stdout"
        }
      ]
    },
    {
      "cell_type": "code",
      "metadata": {
        "id": "RdYw5mHfKHfj"
      },
      "source": [
        "coursera_urls = ['https://www.coursera.org/search?query=data%20science&index=prod_all_products_term_optimization&entityTypeDescription=Courses&allLanguages=English', \n",
        "          'https://www.coursera.org/search?query=data%20science&page=2&index=prod_all_products_term_optimization&entityTypeDescription=Courses&allLanguages=English']\n",
        "url = urllib.request.urlopen(coursera_urls[0])\n",
        "content = url.read()\n",
        "soup = BeautifulSoup(content, 'lxml')"
      ],
      "execution_count": 112,
      "outputs": []
    },
    {
      "cell_type": "code",
      "metadata": {
        "id": "-rtPi44J4CSR"
      },
      "source": [
        "MAXIMUM_PAGE_NUM = 100\n",
        "course_count = 0\n",
        "for i in range(MAXIMUM_PAGE_NUM):\n",
        "  if i<=1:\n",
        "    cur_url = coursera_urls[i]\n",
        "  # generate url with new page num\n",
        "  if(i>1):\n",
        "    and_index = cur_url.find('&')\n",
        "    second_index = and_index\n",
        "    first_index = second_index\n",
        "    while(i < len(cur_url)):\n",
        "      second_index = second_index + 1\n",
        "      if(cur_url[second_index]=='&'):\n",
        "        updated_page = \"&page=\" + str(i+1)\n",
        "        cur_url = cur_url[0:first_index] + updated_page + cur_url[second_index:]\n",
        "        coursera_urls.append(cur_url)\n",
        "        break"
      ],
      "execution_count": 113,
      "outputs": []
    },
    {
      "cell_type": "code",
      "metadata": {
        "id": "OJ2AwueP7Da6"
      },
      "source": [
        "column_names = [\"Course\", \"URL\", \"KeyWords\"]\n",
        "df_course_keywords = pd.DataFrame(columns = column_names)\n",
        "course_count = 0\n",
        "for url_id in range(len(coursera_urls)):\n",
        "  print(\"{}\".format(coursera_urls[url_id]))\n",
        "  url = urllib.request.urlopen(coursera_urls[url_id])\n",
        "  content = url.read()\n",
        "  soup = BeautifulSoup(content, 'lxml')\n",
        "  \n",
        "  course_urls = []\n",
        "  course_names = []\n",
        "  for scriptTag in soup.find_all('script',{'type': 'application/ld+json'}):\n",
        "    script_content = json.loads(scriptTag.text)\n",
        "    print(\"content: {}\".format(script_content))\n",
        "    for i in range( len(script_content['itemListElement']) ):\n",
        "      cur_url = script_content['itemListElement'][i]['url']\n",
        "      slash_index = cur_url.rfind('/')\n",
        "      cur_name = cur_url[slash_index+1:]\n",
        "      cur_name = cur_name.replace(\"/\", \" \")\n",
        "\n",
        "      course_names.append(cur_name)\n",
        "      course_urls.append(cur_url)\n",
        "      df_course_keywords.at[course_count, 'Course'] = cur_name\n",
        "      df_course_keywords.at[course_count, 'URL'] = cur_url\n",
        "      print(\"cur_name: {}\".format(cur_name))\n",
        "      print(\"cur_url: {}\".format(cur_url))\n",
        "      # obtain skills for this course\n",
        "      try:\n",
        "        url = urllib.request.urlopen(cur_url)\n",
        "        content = url.read()\n",
        "        soup = BeautifulSoup(content, 'lxml')\n",
        "        skills = []\n",
        "        for tag in soup.find_all('span',{'class': '_1q9sh65'}):\n",
        "          skills.append(tag.text)\n",
        "        df_course_keywords.at[course_count, 'KeyWords'] = skills\n",
        "        print('cur_skills: {}'.format(skills))\n",
        "        course_count = course_count + 1\n",
        "      except:\n",
        "        print(\"An error occured.\")"
      ],
      "execution_count": null,
      "outputs": []
    },
    {
      "cell_type": "code",
      "metadata": {
        "id": "y5c7pIyR8990"
      },
      "source": [
        "# process the KeyWords column\n",
        "for i in range( len(df_course_keywords.index) ):\n",
        "  cur_key_word = df_course_keywords.iloc[i]['KeyWords']\n",
        "  cur_key_word = cur_key_word.replace(\", \", \",\")\n",
        "  cur_key_word = cur_key_word.replace(\"'\", \"\")\n",
        "  cur_key_word = cur_key_word.replace(\"[\", \"\")\n",
        "  cur_key_word = cur_key_word.replace(\"]\", \"\")\n",
        "  cur_key_word = cur_key_word.split(\",\")\n",
        "  df_course_keywords.at[i, 'KeyWords'] = cur_key_word"
      ],
      "execution_count": 206,
      "outputs": []
    },
    {
      "cell_type": "code",
      "metadata": {
        "id": "-tddceuX9iZ3"
      },
      "source": [
        "df_course_keywords['Skills'] = df_course_keywords['KeyWords']\n",
        "df_course_keywords.drop(columns=['KeyWords'], inplace=True)"
      ],
      "execution_count": 214,
      "outputs": []
    },
    {
      "cell_type": "code",
      "metadata": {
        "id": "pZlLSVqTzadx"
      },
      "source": [
        "df_course_keywords.to_csv('df_course_skills.csv', index=False)"
      ],
      "execution_count": 215,
      "outputs": []
    },
    {
      "cell_type": "code",
      "metadata": {
        "id": "772hQuZ2AUc-",
        "colab": {
          "base_uri": "https://localhost:8080/",
          "height": 195
        },
        "outputId": "6d48e030-d3e6-414c-8eae-26cd716c1be6"
      },
      "source": [
        "df_course_keywords.head()"
      ],
      "execution_count": 216,
      "outputs": [
        {
          "output_type": "execute_result",
          "data": {
            "text/html": [
              "<div>\n",
              "<style scoped>\n",
              "    .dataframe tbody tr th:only-of-type {\n",
              "        vertical-align: middle;\n",
              "    }\n",
              "\n",
              "    .dataframe tbody tr th {\n",
              "        vertical-align: top;\n",
              "    }\n",
              "\n",
              "    .dataframe thead th {\n",
              "        text-align: right;\n",
              "    }\n",
              "</style>\n",
              "<table border=\"1\" class=\"dataframe\">\n",
              "  <thead>\n",
              "    <tr style=\"text-align: right;\">\n",
              "      <th></th>\n",
              "      <th>Course</th>\n",
              "      <th>URL</th>\n",
              "      <th>Skills</th>\n",
              "    </tr>\n",
              "  </thead>\n",
              "  <tbody>\n",
              "    <tr>\n",
              "      <th>0</th>\n",
              "      <td>ibm-data-science</td>\n",
              "      <td>https://www.coursera.org/professional-certific...</td>\n",
              "      <td>[Data Science, Statistical Analysis, Machine L...</td>\n",
              "    </tr>\n",
              "    <tr>\n",
              "      <th>1</th>\n",
              "      <td>jhu-data-science</td>\n",
              "      <td>https://www.coursera.org/specializations/jhu-d...</td>\n",
              "      <td>[Github, Machine Learning, R Programming, Regr...</td>\n",
              "    </tr>\n",
              "    <tr>\n",
              "      <th>2</th>\n",
              "      <td>data-science-python</td>\n",
              "      <td>https://www.coursera.org/specializations/data-...</td>\n",
              "      <td>[Text Mining, Python Programming, Pandas, Matp...</td>\n",
              "    </tr>\n",
              "    <tr>\n",
              "      <th>3</th>\n",
              "      <td>introduction-data-science</td>\n",
              "      <td>https://www.coursera.org/specializations/intro...</td>\n",
              "      <td>[Data Science, Relational Database Management ...</td>\n",
              "    </tr>\n",
              "    <tr>\n",
              "      <th>4</th>\n",
              "      <td>data-science-foundations-r</td>\n",
              "      <td>https://www.coursera.org/specializations/data-...</td>\n",
              "      <td>[Data Science, Machine Learning, Github, R Pro...</td>\n",
              "    </tr>\n",
              "  </tbody>\n",
              "</table>\n",
              "</div>"
            ],
            "text/plain": [
              "                       Course  ...                                             Skills\n",
              "0            ibm-data-science  ...  [Data Science, Statistical Analysis, Machine L...\n",
              "1            jhu-data-science  ...  [Github, Machine Learning, R Programming, Regr...\n",
              "2         data-science-python  ...  [Text Mining, Python Programming, Pandas, Matp...\n",
              "3   introduction-data-science  ...  [Data Science, Relational Database Management ...\n",
              "4  data-science-foundations-r  ...  [Data Science, Machine Learning, Github, R Pro...\n",
              "\n",
              "[5 rows x 3 columns]"
            ]
          },
          "metadata": {
            "tags": []
          },
          "execution_count": 216
        }
      ]
    },
    {
      "cell_type": "markdown",
      "metadata": {
        "id": "41drqDkCRIV2"
      },
      "source": [
        "Count key words frequency"
      ]
    },
    {
      "cell_type": "code",
      "metadata": {
        "id": "aZev4fnIRcDb"
      },
      "source": [
        "column_names = [\"Skills\", \"Count\"]\n",
        "df_keywords_count = pd.DataFrame(columns = column_names)\n",
        "df_keywords_count['Count'] = 0"
      ],
      "execution_count": 217,
      "outputs": []
    },
    {
      "cell_type": "code",
      "metadata": {
        "id": "vTQpFJYjPPbG"
      },
      "source": [
        "cur_count = 0\n",
        "for i in range( len(df_course_keywords.index) ):\n",
        "  print(\"i: {}\".format(i))\n",
        "  cur_key_word = df_course_keywords.iloc[i]['Skills']\n",
        "  for j in range( len(cur_key_word) ):\n",
        "    cur_word = cur_key_word[j].lower()\n",
        "    if len(cur_word) == 0:\n",
        "      continue\n",
        "    match = ( df_keywords_count['Skills']==cur_word ) \n",
        "    match_unique = match.unique()\n",
        "    if ( len(match_unique) == 0 or len(match_unique) == 1 ):\n",
        "      df_keywords_count.at[cur_count, 'Skills'] = cur_word\n",
        "      df_keywords_count.at[cur_count, 'Count'] = 0\n",
        "      cur_count  = cur_count + 1\n",
        "      #input(\"==1 say something...\")\n",
        "    else:\n",
        "      for t_f_id in range( len(match) ):\n",
        "        if match[t_f_id]==True:\n",
        "          df_keywords_count.at[t_f_id, 'Count'] = df_keywords_count.at[t_f_id, 'Count'] + 1\n",
        "          break\n",
        "      #input(\"!=1 say something...\")"
      ],
      "execution_count": null,
      "outputs": []
    },
    {
      "cell_type": "code",
      "metadata": {
        "id": "pTKR9k6H9-uO"
      },
      "source": [
        "result = df_keywords_count.sort_values(by=['Count'], ascending=False)\n",
        "result.to_csv('coursera_skills_sort.csv', index=False)"
      ],
      "execution_count": 220,
      "outputs": []
    },
    {
      "cell_type": "code",
      "metadata": {
        "colab": {
          "base_uri": "https://localhost:8080/",
          "height": 700
        },
        "id": "M73SQLd5Omtf",
        "outputId": "3d18eafa-3691-418d-fc2b-b70f66c0d454"
      },
      "source": [
        "ax = result[0:20].plot.barh(x='Skills', y='Count', rot=0, figsize=(16,12))\n",
        "ax.invert_yaxis()"
      ],
      "execution_count": 225,
      "outputs": [
        {
          "output_type": "display_data",
          "data": {
            "image/png": "[encoded data removed]",
            "text/plain": [
              "<Figure size 1152x864 with 1 Axes>"
            ]
          },
          "metadata": {
            "tags": [],
            "needs_background": "light"
          }
        }
      ]
    }
  ]
}